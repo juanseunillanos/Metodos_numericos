{
 "cells": [
  {
   "cell_type": "code",
   "execution_count": 1,
   "metadata": {
    "collapsed": false
   },
   "outputs": [
    {
     "name": "stdout",
     "output_type": "stream",
     "text": [
      "la raiz es 14.780204\n"
     ]
    }
   ],
   "source": [
    "import math\n",
    "import matplotlib.pyplot as plt\n",
    "xl, xu, fc1,fc2,fcx,t,a=12.0,16.0, 1,1,[],[],[]\n",
    "m=68.1\n",
    "g=9.8\n",
    "v=40\n",
    "\n",
    "def funcion(num):\n",
    "    fc=((g*m)/num)*(1-math.exp(-(num/68.1)*10.0))-v\n",
    "    t.append(num)\n",
    "    fcx.append(fc)\n",
    "    return fc\n",
    "\n",
    "while (fc1*fc2)!=0:\n",
    "    xr=xu-((funcion(xu)*(xl-xu))/(funcion(xl)-(funcion(xu))))\n",
    "    a.append(xr)\n",
    "    fc1=funcion(xl)\n",
    "    fc2=funcion(xr)\n",
    "    if (fc1*fc2)<0:\n",
    "        xu=xr\n",
    "    if (fc1*fc2)>0:\n",
    "        xl=xr\n",
    "\n",
    "print(\"la raiz es %f\"%(xr))\n",
    "plt.ylabel('f(c)')\n",
    "plt.xlabel('num')\n",
    "plt.plot(t, fcx)\n",
    "plt.grid(True)\n",
    "plt.show()    \n",
    "\n"
   ]
  },
  {
   "cell_type": "code",
   "execution_count": null,
   "metadata": {
    "collapsed": true
   },
   "outputs": [],
   "source": []
  }
 ],
 "metadata": {
  "kernelspec": {
   "display_name": "Python 3",
   "language": "python",
   "name": "python3"
  },
  "language_info": {
   "codemirror_mode": {
    "name": "ipython",
    "version": 3
   },
   "file_extension": ".py",
   "mimetype": "text/x-python",
   "name": "python",
   "nbconvert_exporter": "python",
   "pygments_lexer": "ipython3",
   "version": "3.5.1"
  }
 },
 "nbformat": 4,
 "nbformat_minor": 0
}
