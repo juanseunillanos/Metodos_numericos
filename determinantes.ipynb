{
 "cells": [
  {
   "cell_type": "code",
   "execution_count": 32,
   "metadata": {
    "collapsed": false
   },
   "outputs": [
    {
     "name": "stdout",
     "output_type": "stream",
     "text": [
      "solucionador de matricez 3 x 3\n",
      "elemento 0 0 :0.3\n",
      "elemento 0 1 :0.52\n",
      "elemento 0 2 :1\n",
      "elemento 1 0 :0.5\n",
      "elemento 1 1 :1\n",
      "elemento 1 2 :1.9\n",
      "elemento 2 0 :0.1\n",
      "elemento 2 1 :0.3\n",
      "elemento 2 2 :0.5\n",
      "Dame el valor al que se iguala la matriz-0.01\n",
      "Dame el valor al que se iguala la matriz0.67\n",
      "Dame el valor al que se iguala la matriz-0.44\n",
      "la determinante es\n",
      "-0.002200\n",
      "[[0.3, 0.52, 1.0], [0.5, 1.0, 1.9], [0.1, 0.3, 0.5]]\n",
      "X1 = -14.900000\n",
      "X2 = 29.500000\n",
      "X3 = 19.800000\n"
     ]
    }
   ],
   "source": [
    "import math\n",
    "matriz=[]\n",
    "det=0\n",
    "print(\"solucionador de matricez 3 x 3\")\n",
    "for i in range(3):\n",
    "    matriz.append([0]*3)\n",
    "    \n",
    "for f in range(3):\n",
    "    for c in range (3):\n",
    "       matriz[f][c]=float(input(\"elemento %d %d :\" %(f,c)))\n",
    "    \n",
    "a=[] \n",
    "for k in range(3): \n",
    "    a.append(float(input(\"Dame el valor al que se iguala la matriz\"))) \n",
    "    \n",
    "print (\"la determinante es\")\n",
    "det=matriz[0][0]*((matriz[1][1])*matriz[2][2]-(matriz[2][1])*matriz[1][2])-matriz[0][1]*((matriz[1][0])*matriz[2][2]-(matriz[2][0])*matriz[1][2])+matriz[0][2]*((matriz[1][0])*matriz[2][1]-(matriz[2][0])*matriz[1][1])\n",
    "print (\"%f\"%(det))\n",
    "    \n",
    "\n",
    "    \n",
    "def solucion(a,b,c):\n",
    "  j=0   \n",
    "  while (j<3):\n",
    "    if(j==0): \n",
    "        detr=a*((matriz[1][1])*matriz[2][2]-(matriz[2][1])*matriz[1][2])-b*((matriz[0][1])*matriz[2][2]-(matriz[2][1])*matriz[0][2])+c*((matriz[0][1])*matriz[1][2]-(matriz[0][2])*matriz[1][1])\n",
    "        print (\"X1 = %f\" %(detr/det))\n",
    "    if(j==1): \n",
    "        detr2=a*((matriz[1][0])*matriz[2][2]-(matriz[2][0])*matriz[1][2])-b*((matriz[0][0])*matriz[2][2]-(matriz[2][0])*matriz[0][2])+c*((matriz[0][0])*matriz[1][2]-(matriz[0][2])*matriz[1][0])\n",
    "        print (\"X2 = %f\" %(detr2/det))\n",
    "    if(j==2): \n",
    "        detr3=a*((matriz[1][0])*matriz[2][1]-(matriz[2][0])*matriz[1][1])-b*((matriz[0][0])*matriz[2][1]-(matriz[2][0])*matriz[0][1])+c*((matriz[0][0])*matriz[1][1]-(matriz[0][1])*matriz[1][0])\n",
    "        print (\"X3 = %f\" %(detr3/det))\n",
    "    j=j+1        \n",
    "        \n",
    "print (matriz)\n",
    "solucion(a[0],a[1],a[2])    "
   ]
  },
  {
   "cell_type": "code",
   "execution_count": 29,
   "metadata": {
    "collapsed": false
   },
   "outputs": [
    {
     "name": "stdout",
     "output_type": "stream",
     "text": [
      "Dame el valor1\n",
      "Dame el valor2\n",
      "Dame el valor3\n"
     ]
    }
   ],
   "source": [
    "a=[] \n",
    "for k in range(3): \n",
    "    a.append(int(input(\"Dame el valor\"))) "
   ]
  },
  {
   "cell_type": "code",
   "execution_count": null,
   "metadata": {
    "collapsed": true
   },
   "outputs": [],
   "source": []
  }
 ],
 "metadata": {
  "kernelspec": {
   "display_name": "Python 3",
   "language": "python",
   "name": "python3"
  },
  "language_info": {
   "codemirror_mode": {
    "name": "ipython",
    "version": 3
   },
   "file_extension": ".py",
   "mimetype": "text/x-python",
   "name": "python",
   "nbconvert_exporter": "python",
   "pygments_lexer": "ipython3",
   "version": "3.5.1"
  }
 },
 "nbformat": 4,
 "nbformat_minor": 0
}
