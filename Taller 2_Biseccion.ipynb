{
 "cells": [
  {
   "cell_type": "code",
   "execution_count": 37,
   "metadata": {
    "collapsed": false
   },
   "outputs": [
    {
     "name": "stdout",
     "output_type": "stream",
     "text": [
      "6\n",
      "la raiz en metodo biseccion para la funcion es 0.578125\n",
      "la raiz en metodo falsa posicion para la funcion es 0.567143\n",
      "la raiz en metodo punto fijo para la funcion es 0.545396\n",
      "la raiz en metodo la secante modificada para la funcion es 0.567143\n",
      "la raiz en metodo la secante para la funcion es 0.567143\n",
      "la raiz en metodo la newton para la funcion es 0.563195\n"
     ]
    }
   ],
   "source": [
    "import math\n",
    "import matplotlib.pyplot as plt\n",
    "m,g,v=68.1,9.8,40.0\n",
    "t=10.0\n",
    "t,f,f1,t1,Er1,Er,Er2,Er3,Er4,Er5=[],[],[],[],[],[],[],[],[],[]\n",
    "c,c1,Ea=[],[],[]\n",
    "x,xl,x1=0.0,0.0,0.0\n",
    "xu=1.0\n",
    "x0=1.0\n",
    "xr,xr1,xr2,s=0.0,0.0,0.0,0.01\n",
    "fc1,fc2,fs1=1.0,1.0,0.0\n",
    "k=(xu+(s*xu))\n",
    "    \n",
    "def funcion2(num):\n",
    "    fc=(math.e**(-num))-num\n",
    "    t.append(num)\n",
    "    f.append(fc)\n",
    "    return fc\n",
    "\n",
    "def funcion(num):\n",
    "    fc=(math.e**(-num))-num\n",
    "    t1.append(num)\n",
    "    f1.append(fc)\n",
    "    return fc\n",
    "\n",
    "n=0\n",
    "while (n<6):\n",
    " Er.append((abs(0.5671329-xr)/0.5671329)*100) \n",
    " f1.append(xr1)\n",
    " xr=(xl+xu)/2\n",
    " fc1=funcion2(xl)\n",
    " fc2=funcion2(xr)\n",
    " if ((fc1*fc2)<0):\n",
    "  xu=xr\n",
    " if((fc1*fc2)>0):\n",
    "  xl=xr\n",
    " c.append(n)\n",
    " n = n+1    \n",
    "\n",
    "i=0    \n",
    "while (i<6):\n",
    " Er1.append((abs(0.5671329-xr1)/0.5671329)*100)   \n",
    " xr1=xu-((funcion(xu)*(xl-xu))/(funcion(xl)-(funcion(xu))))\n",
    " t1.append(xr1)\n",
    " fc1=funcion(xl)\n",
    " fc2=funcion(xr1)\n",
    " if (fc1*fc2)<0:\n",
    "  xu=xr1\n",
    " if (fc1*fc2)>0:\n",
    "  xl=xr1\n",
    " c1.append(i)\n",
    " i+=1\n",
    " \n",
    "f=0    \n",
    "while(f<6):\n",
    " Er2.append((abs(0.5671329-x)/0.5671329)*100)\n",
    " x=math.e**(-x)\n",
    " f+=1\n",
    "\n",
    "i=0\n",
    "while i<6:\n",
    "    fs1=xu-((s*xu)*((math.exp(-xu))-xu))/((math.exp(-k)-k)-(math.exp(-xu)-xu))\n",
    "    xu=fs1\n",
    "    k=(xu+(s*xu))\n",
    "    Er3.append(math.fabs(((0.5671-fs1)/0.5671)*100))\n",
    "    i+=1\n",
    "    \n",
    "j=0    \n",
    "while j<6:\n",
    "    fun=x0-(((math.exp(-x0)-x0)*(xr2-x0)))/((math.exp(-xr2)-xr2)-(math.exp(-x0)-x0))\n",
    "    xr2=x0\n",
    "    x0=fun\n",
    "    Er4.append(math.fabs(((0.5671-fun)/0.5671)*100))\n",
    "    j+=1\n",
    "\n",
    "h=0    \n",
    "while h<26:\n",
    "    Er5.append((abs(0.5671329-x1)/0.5671329)*100)\n",
    "    x1= x1-(math.e**(-x)-x)/(-math.e**(-x)-1)    \n",
    "    h+=1\n",
    "m=20    \n",
    "while m<26:\n",
    " Ea.append(Er5[m])\n",
    " m+=1\n",
    "    \n",
    "print(\"la raiz en metodo biseccion para la funcion es %f\"%(xr))\n",
    "print(\"la raiz en metodo falsa posicion para la funcion es %f\"%(xr1))\n",
    "print(\"la raiz en metodo punto fijo para la funcion es %f\"%(x))\n",
    "print(\"la raiz en metodo la secante modificada para la funcion es %f\"%(xu))\n",
    "print(\"la raiz en metodo la secante para la funcion es %f\"%(xr2))\n",
    "print(\"la raiz en metodo la newton para la funcion es %f\"%(x1))\n",
    "plt.ylabel('Error')\n",
    "plt.xlabel('num')\n",
    "plt.plot(c,Er )\n",
    "plt.plot(c1,Er1)\n",
    "plt.plot(c1,Er2)\n",
    "plt.plot(c1,Er3)\n",
    "plt.plot(c1,Er4)\n",
    "plt.plot(c1,Ea)\n",
    "plt.grid(True)\n",
    "plt.show()  "
   ]
  },
  {
   "cell_type": "code",
   "execution_count": null,
   "metadata": {
    "collapsed": true
   },
   "outputs": [],
   "source": []
  },
  {
   "cell_type": "code",
   "execution_count": null,
   "metadata": {
    "collapsed": true
   },
   "outputs": [],
   "source": []
  }
 ],
 "metadata": {
  "kernelspec": {
   "display_name": "Python 3",
   "language": "python",
   "name": "python3"
  },
  "language_info": {
   "codemirror_mode": {
    "name": "ipython",
    "version": 3
   },
   "file_extension": ".py",
   "mimetype": "text/x-python",
   "name": "python",
   "nbconvert_exporter": "python",
   "pygments_lexer": "ipython3",
   "version": "3.5.1"
  }
 },
 "nbformat": 4,
 "nbformat_minor": 0
}
