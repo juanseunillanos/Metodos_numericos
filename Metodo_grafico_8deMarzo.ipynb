{
 "cells": [
  {
   "cell_type": "code",
   "execution_count": 27,
   "metadata": {
    "collapsed": false
   },
   "outputs": [
    {
     "name": "stdout",
     "output_type": "stream",
     "text": [
      "A continuacion se utilizara el metodo grafico para las ecuaciones:\n",
      "a)3X1+2X2=18\n",
      "b)-X1+2X2=2\n",
      "la solucion de las ecuaciones despejadas a favor de X2 es 3.0\n",
      "la solucion de X1 es 4.0\n"
     ]
    }
   ],
   "source": [
    "import math\n",
    "import matplotlib.pyplot as plt\n",
    "n,F1,F2,x,X1,z,z1=0,[],[],[],0,0.0,0.0\n",
    "\n",
    "print(\"A continuacion se utilizara el metodo grafico para las ecuaciones:\")\n",
    "print(\"a)3X1+2X2=18\")\n",
    "print(\"b)-X1+2X2=2\")\n",
    "while X1<6 :\n",
    " F1.append((-3/2)*X1+9)\n",
    " F2.append((1/2)*X1+1)\n",
    " x.append(X1)   \n",
    " X1+=1\n",
    " \n",
    "\n",
    "n=0\n",
    "while n<len(F1):\n",
    " if(F1[n]==F2[n]):\n",
    "   z=F1[n] \n",
    "   z1=(2*(z)-2) \n",
    "   print(\"la solucion de las ecuaciones despejadas a favor de X2 es %s\"%(F1[n]))\n",
    "   print(\"la solucion de X1 es %s\"%(z1)) \n",
    " n+=1\n",
    "    \n",
    "    \n",
    "    \n",
    "plt.ylabel('X2')\n",
    "plt.xlabel('X1')\n",
    "plt.axis([0,10,0,15])\n",
    "plt.plot(x,F1)\n",
    "plt.plot(x,F2)\n",
    "plt.grid(True)\n",
    "plt.show()    "
   ]
  },
  {
   "cell_type": "code",
   "execution_count": null,
   "metadata": {
    "collapsed": true
   },
   "outputs": [],
   "source": []
  },
  {
   "cell_type": "code",
   "execution_count": null,
   "metadata": {
    "collapsed": true
   },
   "outputs": [],
   "source": []
  }
 ],
 "metadata": {
  "kernelspec": {
   "display_name": "Python 3",
   "language": "python",
   "name": "python3"
  },
  "language_info": {
   "codemirror_mode": {
    "name": "ipython",
    "version": 3
   },
   "file_extension": ".py",
   "mimetype": "text/x-python",
   "name": "python",
   "nbconvert_exporter": "python",
   "pygments_lexer": "ipython3",
   "version": "3.5.1"
  }
 },
 "nbformat": 4,
 "nbformat_minor": 0
}
