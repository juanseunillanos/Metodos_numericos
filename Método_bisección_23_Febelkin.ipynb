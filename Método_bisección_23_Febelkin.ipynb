{
 "cells": [
  {
   "cell_type": "code",
   "execution_count": 3,
   "metadata": {
    "collapsed": false
   },
   "outputs": [
    {
     "name": "stdout",
     "output_type": "stream",
     "text": [
      "La raiz es igual a: 14.780204\n"
     ]
    }
   ],
   "source": [
    "import math\n",
    "import matplotlib.pyplot as plt\n",
    "m,g,v=68.1,9.8,40.0\n",
    "t=10.0\n",
    "t,f=[],[]\n",
    "xl=12.0\n",
    "xu=16.0\n",
    "xr=0.0\n",
    "fc1,fc2=1.0,1.0\n",
    "for i in range(1,20):\n",
    "    c=i*1\n",
    "    fc=((g*m)/c)*(1-math.exp(-(c/68.1)*10.0))-v\n",
    "    t.append(c)\n",
    "    f.append(fc)\n",
    "\n",
    "    \n",
    "def funcion2(num):\n",
    "    fc=((g*m)/num)*(1-math.exp(-(num/68.1)*10.0))-v\n",
    "    return fc\n",
    "\n",
    "while ((fc1*fc2)!=0):\n",
    "    xr=(xl+xu)/2\n",
    "    fc1=funcion2(xl)\n",
    "    fc2=funcion2(xr)\n",
    "    if ((fc1*fc2)<0):\n",
    "        xu=xr\n",
    "    if((fc1*fc2)>0):\n",
    "        xl=xr        \n",
    "print (\"La raiz es igual a: %f\"%(xr))\n",
    "\n",
    "plt.ylabel('f(c)')\n",
    "plt.xlabel('c')\n",
    "plt.plot(t, f)\n",
    "plt.grid(True)\n",
    "plt.show()"
   ]
  },
  {
   "cell_type": "code",
   "execution_count": null,
   "metadata": {
    "collapsed": true
   },
   "outputs": [],
   "source": []
  }
 ],
 "metadata": {
  "kernelspec": {
   "display_name": "Python 3",
   "language": "python",
   "name": "python3"
  },
  "language_info": {
   "codemirror_mode": {
    "name": "ipython",
    "version": 3
   },
   "file_extension": ".py",
   "mimetype": "text/x-python",
   "name": "python",
   "nbconvert_exporter": "python",
   "pygments_lexer": "ipython3",
   "version": "3.5.1"
  }
 },
 "nbformat": 4,
 "nbformat_minor": 0
}
