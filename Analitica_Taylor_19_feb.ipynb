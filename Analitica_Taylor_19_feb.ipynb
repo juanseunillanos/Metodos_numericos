{
 "cells": [
  {
   "cell_type": "code",
   "execution_count": 2,
   "metadata": {
    "collapsed": false
   },
   "outputs": [
    {
     "name": "stdout",
     "output_type": "stream",
     "text": [
      "  Orden Derivada    F(Xi+1)\n",
      "----------------  ---------\n",
      "               0       1.2\n",
      "               1       0.95\n",
      "               2       0.45\n",
      "               3       0.3\n",
      "               4       0.2\n"
     ]
    }
   ],
   "source": [
    "import math\n",
    "from tabulate import tabulate\n",
    "fx,fi,h = [],[],1\n",
    "tabla=[]\n",
    "x=0.0\n",
    "fx.append(-0.1*x**4-0.15*x**3-0.5*x**2-0.25*x+1.2)\n",
    "fx.append(-0.4*x**3-0.45*x**2-x-0.25)\n",
    "fx.append(-1.2*x**2-0.9*x-1)\n",
    "fx.append(-2.4*x-0.9)\n",
    "fx.append(-2.4)\n",
    "i,aux = 0,0.0\n",
    "\n",
    "while i<5:\n",
    " if (i==0):\n",
    "   f = fx[i]/ math.factorial(i)\n",
    " else:\n",
    "   f = (fx[i]/ math.factorial(i))*h**(i+1) \n",
    " aux = aux + f\n",
    " fi.append(aux)     \n",
    " tabla.append([i,fi[i]])\n",
    " i = i+1  \n",
    "\n",
    "print (tabulate(tabla,headers=[\"Orden Derivada\",\"F(Xi+1)\"]))   "
   ]
  },
  {
   "cell_type": "code",
   "execution_count": null,
   "metadata": {
    "collapsed": true
   },
   "outputs": [],
   "source": []
  },
  {
   "cell_type": "code",
   "execution_count": null,
   "metadata": {
    "collapsed": true
   },
   "outputs": [],
   "source": []
  }
 ],
 "metadata": {
  "kernelspec": {
   "display_name": "Python 3",
   "language": "python",
   "name": "python3"
  },
  "language_info": {
   "codemirror_mode": {
    "name": "ipython",
    "version": 3
   },
   "file_extension": ".py",
   "mimetype": "text/x-python",
   "name": "python",
   "nbconvert_exporter": "python",
   "pygments_lexer": "ipython3",
   "version": "3.5.1"
  }
 },
 "nbformat": 4,
 "nbformat_minor": 0
}
