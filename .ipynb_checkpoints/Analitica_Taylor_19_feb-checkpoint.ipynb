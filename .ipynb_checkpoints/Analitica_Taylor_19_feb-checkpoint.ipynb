{
 "cells": [
  {
   "cell_type": "code",
   "execution_count": 31,
   "metadata": {
    "collapsed": false
   },
   "outputs": [
    {
     "name": "stdout",
     "output_type": "stream",
     "text": [
      "orden        f(Xi+1)\n",
      "0            1.200000\n",
      "1            0.950000\n",
      "2            0.450000\n",
      "3            0.300000\n",
      "4            0.200000\n"
     ]
    }
   ],
   "source": [
    "import math\n",
    "fx,h = [],1\n",
    "x=0.0\n",
    "fx.append(-0.1*x**4-0.15*x**3-0.5*x**2-0.25*x+1.2)\n",
    "fx.append(-0.4*x**3-0.45*x**2-x-0.25)\n",
    "fx.append(-1.2*x**2-0.9*x-1)\n",
    "fx.append(-2.4*x-0.9)\n",
    "fx.append(-2.4)\n",
    "n,fac,aux = 0,0,0.0\n",
    "print (\"orden        f(Xi+1)\")\n",
    "while n<5:\n",
    "    fac = math.factorial(n)\n",
    "    if (n==0):\n",
    "        f = fx[n]/fac\n",
    "    else:\n",
    "        f = (fx[n]/fac)*h**(n+1)\n",
    "    aux = aux + f\n",
    "    print (\"%s            %f\"%(n,aux))\n",
    "    n = n+1   "
   ]
  },
  {
   "cell_type": "code",
   "execution_count": null,
   "metadata": {
    "collapsed": true
   },
   "outputs": [],
   "source": []
  }
 ],
 "metadata": {
  "kernelspec": {
   "display_name": "Python 3",
   "language": "python",
   "name": "python3"
  },
  "language_info": {
   "codemirror_mode": {
    "name": "ipython",
    "version": 3
   },
   "file_extension": ".py",
   "mimetype": "text/x-python",
   "name": "python",
   "nbconvert_exporter": "python",
   "pygments_lexer": "ipython3",
   "version": "3.5.1"
  }
 },
 "nbformat": 4,
 "nbformat_minor": 0
}
