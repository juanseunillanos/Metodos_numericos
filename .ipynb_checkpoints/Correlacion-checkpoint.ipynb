{
 "cells": [
  {
   "cell_type": "code",
   "execution_count": 36,
   "metadata": {
    "collapsed": false
   },
   "outputs": [
    {
     "name": "stdout",
     "output_type": "stream",
     "text": [
      "0.9978879334431419\n",
      "0.9950358612800629\n"
     ]
    }
   ],
   "source": [
    "import math\n",
    "z,x,y,XY1,xy,x1,y1=0.0,0.0,0.0,0.0,0.0,0.0,0.0\n",
    "n=15\n",
    "R=0.0\n",
    "Vcm=[11.240,18.570,23.729,27.556,30.509,32.855,34.766,36.351,37.687,38.829,39.816,40.678,41.437,42.110,42.712]\n",
    "Vc=[8.953, 16.405, 22.607,27.769,32.065,35.641,38.617,41.095,43.156,44.872,46.301,47.490,48.479,49.303,49.988]\n",
    "Vm=[10.0, 16.30, 23.0, 27.50, 31.0, 35.60, 39.0, 41.50, 42.90, 45.0, 46.0, 45.50, 46.0, 49.0, 50.0]\n",
    "\n",
    "def sumatoria(V1,V2):\n",
    "    global XY1,x,y,z\n",
    "    XY1,x,y,z=0.0,0.0,0.0,0.0\n",
    "    for i in range(n):\n",
    "        XY1=V1[i]*V2[i]+XY1\n",
    "        x=V1[i]+x\n",
    "        y=V2[i]+y\n",
    "    z=((n*XY1)-x*y)\n",
    "    parte2(z,x,y,V1,V2)\n",
    "    \n",
    "    \n",
    "    \n",
    "def parte2(z,x,y,V1,V2):\n",
    "    global x1,y1\n",
    "    x1,y1,c,d,R,f=0.0,0.0,0.0,0.0,0.0,0.0\n",
    "    for i in range(n):\n",
    "        x1=(V1[i]*V1[i])+x1\n",
    "        y1=(V2[i]*V2[i])+y1\n",
    "    c=math.sqrt(abs((15*(x1))-((x)**2)))\n",
    "    d=math.sqrt(abs((15*(y1))-((y)**2)))\n",
    "    f=c*d\n",
    "    R=z/f\n",
    "    print(R)\n",
    "  \n",
    "\n",
    "sumatoria(Vm,Vc)\n",
    "sumatoria(Vm,Vcm)\n",
    "\n"
   ]
  },
  {
   "cell_type": "code",
   "execution_count": null,
   "metadata": {
    "collapsed": true
   },
   "outputs": [],
   "source": []
  },
  {
   "cell_type": "code",
   "execution_count": null,
   "metadata": {
    "collapsed": true
   },
   "outputs": [],
   "source": []
  }
 ],
 "metadata": {
  "kernelspec": {
   "display_name": "Python 3",
   "language": "python",
   "name": "python3"
  },
  "language_info": {
   "codemirror_mode": {
    "name": "ipython",
    "version": 3
   },
   "file_extension": ".py",
   "mimetype": "text/x-python",
   "name": "python",
   "nbconvert_exporter": "python",
   "pygments_lexer": "ipython3",
   "version": "3.5.1"
  }
 },
 "nbformat": 4,
 "nbformat_minor": 0
}
