{
 "cells": [
  {
   "cell_type": "code",
   "execution_count": null,
   "metadata": {
    "collapsed": false
   },
   "outputs": [],
   "source": [
    "import matplotlib.pyplot as plt\n",
    "import math\n",
    "g,m,c,t,v= 9.8,68.1,12,10,40\n",
    "i,f,funcion,coe=1,0.0,[],[]\n",
    "while c<=20:\n",
    "    f = (g*m/c)*(1-math.exp((-1*c/m)*t))-v\n",
    "    funcion.append(f)\n",
    "    coe.append(c)\n",
    "    c = c+1\n",
    "Xl,Xu,Xr,f1,f2 = 12.0,16.0,0.0,1.0,1.0\n",
    "\n",
    "def evaluar(x):\n",
    "    fun = (g*m/x)*(1-math.exp((-1*x/m)*t))-v\n",
    "    return fun\n",
    "\n",
    "while (f1*f2)!=0:\n",
    "    Xr =  (Xl+Xu)/2\n",
    "    f1 = evaluar(Xl)\n",
    "    f2 = evaluar(Xr)\n",
    "    if (f1*f2)<0:\n",
    "        Xu = Xr\n",
    "    if (f1*f2)>0:\n",
    "        Xl = Xr\n",
    "print (\"La Raiz es: %f\"%(Xr))\n",
    "\n",
    "plt.ylabel('f(c)')\n",
    "plt.xlabel('c')\n",
    "plt.plot(coe, funcion)\n",
    "plt.axis([0, 20, -20, 16])\n",
    "plt.grid(True)\n",
    "plt.show()"
   ]
  },
  {
   "cell_type": "code",
   "execution_count": null,
   "metadata": {
    "collapsed": true
   },
   "outputs": [],
   "source": []
  },
  {
   "cell_type": "code",
   "execution_count": null,
   "metadata": {
    "collapsed": true
   },
   "outputs": [],
   "source": []
  },
  {
   "cell_type": "code",
   "execution_count": null,
   "metadata": {
    "collapsed": true
   },
   "outputs": [],
   "source": []
  }
 ],
 "metadata": {
  "kernelspec": {
   "display_name": "Python 3",
   "language": "python",
   "name": "python3"
  },
  "language_info": {
   "codemirror_mode": {
    "name": "ipython",
    "version": 3
   },
   "file_extension": ".py",
   "mimetype": "text/x-python",
   "name": "python",
   "nbconvert_exporter": "python",
   "pygments_lexer": "ipython3",
   "version": "3.5.1"
  }
 },
 "nbformat": 4,
 "nbformat_minor": 0
}
