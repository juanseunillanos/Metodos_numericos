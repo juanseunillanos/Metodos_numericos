{
 "cells": [
  {
   "cell_type": "code",
   "execution_count": 26,
   "metadata": {
    "collapsed": false
   },
   "outputs": [
    {
     "name": "stdout",
     "output_type": "stream",
     "text": [
      "valor tolerado de error de e°(0.5) 0.05\n",
      "la aproximacion de la serie de maclaurin de e^x es 0.5\n",
      "  Dato    valor Aproximado    Error Relativo % Ver    Error Aproximado\n",
      "------  ------------------  ----------------------  ------------------\n",
      "     0             1                   64.8721             100\n",
      "     1             1.5                  9.91475             33.3333\n",
      "     2             1.625                1.45977              7.69231\n",
      "     3             1.64583              0.17547              1.26582\n",
      "     4             1.64844              0.0172145            0.157978\n",
      "     5             1.6487               0.00141651           0.0157953\n"
     ]
    }
   ],
   "source": [
    "import math\n",
    "from tabulate import tabulate\n",
    "aproE= 0.5\n",
    "x=0.5\n",
    "seriA,Serie=0,0\n",
    "i,val2=0,0\n",
    "Tol=(0.5*math.pow(10,(-1)))\n",
    "Val1=(math.pow(math.e,(x)))\n",
    "table,valorAp,Ev,Ea,ErP,ValorAn=[],[],[],[],[],[]\n",
    "print(\"valor tolerado de error de e°(0.5) %s\" %(Tol))\n",
    " \n",
    "while 1:\n",
    " Serie=((math.pow(x,i))/math.factorial(i))\n",
    " seriA=val2\n",
    " ValorAn.append(seriA)\n",
    " val2+=Serie\n",
    " valorAp.append(val2)\n",
    " Ev.append((Val1-valorAp[i]))\n",
    " ErP.append((Ev[i]/valorAp[i])*100)\n",
    " Eapro=((valorAp[i]-ValorAn[i])/valorAp[i])*100\n",
    " Ea.append(Eapro)\n",
    " table.append ([i,valorAp[i],ErP[i],Ea[i]])\n",
    " i+=1\n",
    " if (Eapro<Tol):\n",
    "    break \n",
    "    \n",
    "print (\"la aproximacion de la serie de maclaurin de e^x es 0.5\") \n",
    "print (tabulate(table,headers=[\"Dato\",\"valor Aproximado\",\"Error Relativo % Ver\",\"Error Aproximado\"]))\n",
    "    \n",
    "    "
   ]
  },
  {
   "cell_type": "code",
   "execution_count": null,
   "metadata": {
    "collapsed": true
   },
   "outputs": [],
   "source": []
  }
 ],
 "metadata": {
  "kernelspec": {
   "display_name": "Python 3",
   "language": "python",
   "name": "python3"
  },
  "language_info": {
   "codemirror_mode": {
    "name": "ipython",
    "version": 3
   },
   "file_extension": ".py",
   "mimetype": "text/x-python",
   "name": "python",
   "nbconvert_exporter": "python",
   "pygments_lexer": "ipython3",
   "version": "3.5.1"
  }
 },
 "nbformat": 4,
 "nbformat_minor": 0
}
