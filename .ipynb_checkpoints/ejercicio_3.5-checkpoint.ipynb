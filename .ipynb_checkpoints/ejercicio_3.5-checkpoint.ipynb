{
 "cells": [
  {
   "cell_type": "code",
   "execution_count": 51,
   "metadata": {
    "collapsed": false,
    "scrolled": false
   },
   "outputs": [
    {
     "name": "stdout",
     "output_type": "stream",
     "text": [
      "valor tolerado de error de e°(-5) -0.5\n",
      "|   valor Aproximado |   Error verdadero |   Error Relativo % Ver |   Error % Aproximado |\n",
      "|-------------------:|------------------:|-----------------------:|---------------------:|\n",
      "|         1          |       -0.993262   |               -99.3262 |              100     |\n",
      "|        -4          |        4.00674    |              -100.168  |              125     |\n",
      "|         8.5        |       -8.49326    |               -99.9207 |              147.059 |\n",
      "|       -12.3333     |       12.3401     |              -100.055  |              168.919 |\n",
      "|        13.7083     |      -13.7016     |               -99.9508 |              189.97  |\n",
      "|       -12.3333     |       12.3401     |              -100.055  |              211.149 |\n",
      "|         9.36806    |       -9.36132    |               -99.9281 |              231.653 |\n",
      "|        -6.13294    |        6.13967    |              -100.11   |              252.75  |\n",
      "|         3.55518    |       -3.54845    |               -99.8105 |              272.507 |\n",
      "|        -1.82711    |        1.83384    |              -100.369  |              294.58  |\n",
      "|         0.864039   |       -0.857301   |               -99.2202 |              311.461 |\n",
      "|        -0.359208   |        0.365946   |              -101.876  |              340.54  |\n",
      "|         0.150478   |       -0.14374    |               -95.5223 |              338.712 |\n",
      "|        -0.0455552  |        0.0522932  |              -114.791  |              430.32  |\n",
      "|         0.0244567  |       -0.0177187  |               -72.4495 |              286.269 |\n",
      "|         0.00111938 |        0.00561857 |               501.936  |            -2084.84  |\n",
      "|   Valor Aproximado |   Error Verdadero |   Error relativo % ver |   Error % Aproximado |\n",
      "|-------------------:|------------------:|-----------------------:|---------------------:|\n",
      "|         1          |      -0.993262    |           99.3262      |        100           |\n",
      "|         0.166667   |      -0.159929    |           95.9572      |        500           |\n",
      "|         0.0540541  |      -0.0473161   |           87.5348      |        208.333       |\n",
      "|         0.0254237  |      -0.0186858   |           73.4974      |        112.613       |\n",
      "|         0.0152964  |      -0.00855842  |           55.9507      |         66.2076      |\n",
      "|         0.0109389  |      -0.00420098  |           38.4039      |         39.8343      |\n",
      "|         0.00884032 |      -0.00210237  |           23.7817      |         23.739       |\n",
      "|         0.0077749  |      -0.00103695  |           13.3372      |         13.7034      |\n",
      "|         0.00723028 |      -0.000492336 |            6.80936     |          7.53241     |\n",
      "|         0.00695945 |      -0.000221506 |            3.18281     |          3.89155     |\n",
      "|         0.00683151 |      -9.35593e-05 |            1.36953     |          1.87289     |\n",
      "|         0.00677489 |      -3.69441e-05 |            0.545309    |          0.835662    |\n",
      "|         0.00675158 |      -1.36304e-05 |            0.201885    |          0.345307    |\n",
      "|         0.00674265 |      -4.7063e-06  |            0.069799    |          0.132353    |\n",
      "|         0.00673947 |      -1.52483e-06 |            0.0226254   |          0.0472066   |\n",
      "|         0.00673841 |      -4.65006e-07 |            0.00690082  |          0.0157281   |\n",
      "|         0.00673808 |      -1.33879e-07 |            0.0019869   |          0.00491426  |\n",
      "|         0.00673798 |      -3.64952e-08 |            0.000541634 |          0.0014453   |\n",
      "|         0.00673796 |      -9.44458e-09 |            0.00014017  |          0.000401466 |\n",
      "|         0.00673795 |      -2.32603e-09 |            3.45214e-05 |          0.000105649 |\n"
     ]
    }
   ],
   "source": [
    "import math\n",
    "from tabulate import tabulate\n",
    "aproE=0.00673794699\n",
    "actual,actual1,actual2=0,0,0\n",
    "x1=-5\n",
    "y=5\n",
    "ValorV1=1/math.exp(y)\n",
    "seriA,Serie=0,0\n",
    "i,val2=0,0\n",
    "Tol=(-5*math.pow(10,(-1)))\n",
    "Val1=(math.pow(math.e,(x)))\n",
    "table,valorAp,Ev,Ea,ErP,ValorAn=[],[],[],[],[],[]\n",
    "Ea1,Erpv1,Ev1,eA1,tab=[],[],[],[],[]\n",
    "print(\"valor tolerado de error de e°(-5) %s\" %(Tol))\n",
    "\n",
    " \n",
    "while 1:\n",
    " Serie=((math.pow(x1,i))/math.factorial(i))\n",
    " seriA=val2\n",
    " ValorAn.append(seriA)\n",
    " val2+=Serie\n",
    " valorAp.append(val2)\n",
    " Ev.append((Val1-valorAp[i]))\n",
    " ErP.append((Ev[i]/valorAp[i])*100)\n",
    " Eapro=((valorAp[i]-ValorAn[i])/valorAp[i])*100\n",
    " Ea.append(Eapro)\n",
    " table.append ([valorAp[i],Ev[i],ErP[i],Ea[i]])\n",
    " i+=1\n",
    " if (Eapro<Tol):\n",
    "    break \n",
    "print (tabulate(table,headers=[\"valor Aproximado\",\"Error verdadero\",\"Error Relativo % Ver\",\"Error % Aproximado\"],tablefmt=\"pipe\"))\n",
    "\n",
    "for i in range (20):\n",
    "    e=(math.pow(x,i))/math.factorial(i)\n",
    "    c=((math.pow(y,i))/math.factorial(i))\n",
    "    anterior1=actual2\n",
    "    actual1=(c+actual1)\n",
    "    actual2=1/actual1 \n",
    "    anterior=actual\n",
    "    actual=(e+actual)\n",
    "    Ev1=(ValorV1-actual2)\n",
    "    Erpv1=math.fabs((Ev1/actual2)*100)\n",
    "    Ea1=math.fabs(((actual2-anterior1)/actual2)*100)\n",
    "    tab.append([ actual2,Ev1, Erpv1, Ea1])\n",
    "    i+=1\n",
    "    \n",
    "print((tabulate(tab, headers=[\"Valor Aproximado\", \"Error Verdadero\", \"Error relativo % ver\",\"Error % Aproximado\"],tablefmt=\"pipe\")))\n",
    "\n",
    "    \n",
    "    \n"
   ]
  },
  {
   "cell_type": "code",
   "execution_count": null,
   "metadata": {
    "collapsed": true
   },
   "outputs": [],
   "source": []
  }
 ],
 "metadata": {
  "kernelspec": {
   "display_name": "Python 3",
   "language": "python",
   "name": "python3"
  },
  "language_info": {
   "codemirror_mode": {
    "name": "ipython",
    "version": 3
   },
   "file_extension": ".py",
   "mimetype": "text/x-python",
   "name": "python",
   "nbconvert_exporter": "python",
   "pygments_lexer": "ipython3",
   "version": "3.5.1"
  }
 },
 "nbformat": 4,
 "nbformat_minor": 0
}
