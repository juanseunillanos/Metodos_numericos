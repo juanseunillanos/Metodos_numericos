{
 "cells": [
  {
   "cell_type": "code",
   "execution_count": 1,
   "metadata": {
    "collapsed": false
   },
   "outputs": [
    {
     "name": "stdout",
     "output_type": "stream",
     "text": [
      "5000.0 0.002 4999.999998981366 0.002 0.0 0.0 2.0372681323864054e-08 0.0\n",
      "Aritmetica de 5 digitos\n",
      "                                               Valor Verdadero        Error\n",
      "---------------  ---------------  --------  ------------------  -----------\n",
      "Primera Formula  1) Primer Raiz   5000                5000      0\n",
      "Primera Formula  2) Segunda Raiz     0.002               0.002  0\n",
      "Segunda Formula  1) Primer Raiz   5000                5000      2.03727e-08\n",
      "Segunda Formula  2) Segunda Raiz     0.002               0.002  0\n"
     ]
    }
   ],
   "source": [
    "from tabulate import tabulate\n",
    "import math\n",
    "\n",
    "\n",
    "def cifras_Sig(num):\n",
    "    \n",
    "    cad=str(num)\n",
    "    \n",
    "    if(cad.find(\".\")):\n",
    "        return float(cad[:cad.find(\".\")+6])\n",
    "    \n",
    "    else:\n",
    "        return float(num)\n",
    "    \n",
    "def raices():\n",
    "    \n",
    "    a,b,c=1,5000.002,10\n",
    "\n",
    "    vVerX1=5000\n",
    "    vVerX2=0.002\n",
    "    \n",
    "    Xo =cifras_Sig((b+cifras_Sig(math.sqrt((b**2)-4*a*c)))/2*a)\n",
    "    X1 =cifras_Sig((b-cifras_Sig(math.sqrt((b**2)-4*a*c)))/2*a)\n",
    "\n",
    "    Yo = -2*c/(-b+cifras_Sig(math.sqrt(b**2-4*a*c)))\n",
    "    Y1 = -2*c/(-b-cifras_Sig(math.sqrt(b**2-4*a*c)))\n",
    "    \n",
    "    \n",
    "    Eto =abs(((vVerX1-Xo)/Xo)*100)\n",
    "    Et1 =abs(((vVerX2-X1)/X1)*100)\n",
    "\n",
    "    Et1o =abs(((vVerX1-Yo)/Yo)*100)\n",
    "    Et11 =abs(((vVerX2-Y1)/Y1)*100)\n",
    "    \n",
    "    print(Xo, X1, Yo, Y1, Eto, Et1, Et1o, Et11)\n",
    "    \n",
    "    print(\"Aritmetica de 5 digitos\")\n",
    "    \n",
    "    tabla=[[\"Primera Formula\",\"1) Primer Raiz\",Xo, vVerX1,Eto],[\"Primera Formula\",\"2) Segunda Raiz\",X1, vVerX2,Et1],\n",
    "          [\"Segunda Formula\",\"1) Primer Raiz\",Yo, vVerX1,Et1o],[\"Segunda Formula\",\"2) Segunda Raiz\",Y1, vVerX2,Et11]]\n",
    "    \n",
    "    print(tabulate(tabla, headers=[\"    \",\"   \",\"    \",\" Valor Verdadero\",\"Error\"]))\n",
    "    \n",
    "raices()"
   ]
  },
  {
   "cell_type": "code",
   "execution_count": null,
   "metadata": {
    "collapsed": true
   },
   "outputs": [],
   "source": []
  }
 ],
 "metadata": {
  "kernelspec": {
   "display_name": "Python 3",
   "language": "python",
   "name": "python3"
  },
  "language_info": {
   "codemirror_mode": {
    "name": "ipython",
    "version": 3
   },
   "file_extension": ".py",
   "mimetype": "text/x-python",
   "name": "python",
   "nbconvert_exporter": "python",
   "pygments_lexer": "ipython3",
   "version": "3.5.1"
  }
 },
 "nbformat": 4,
 "nbformat_minor": 0
}
