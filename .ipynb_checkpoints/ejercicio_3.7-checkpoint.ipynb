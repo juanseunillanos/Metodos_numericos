{
 "cells": [
  {
   "cell_type": "code",
   "execution_count": 35,
   "metadata": {
    "collapsed": false
   },
   "outputs": [
    {
     "name": "stdout",
     "output_type": "stream",
     "text": [
      "Ecuacion la ecuacion y = x3 – 7x2 + 8x + 0.35 su valor aproximado es 0.743 y su Error verdadero Porcentual es 0.007133\n",
      "Ecuacion la ecuacion y=[(x-7)x + 8]x + 0.35 su valor aproximado es 0.743 y su Error verdadero Porcentual es 0.007133\n"
     ]
    }
   ],
   "source": [
    "import math\n",
    "from tabulate import tabulate\n",
    "x=1.37\n",
    "yVer1,yaproX1,yVer,=0,0,0\n",
    "tab=[]\n",
    "\n",
    "yVer1=(x**3)-(7*(x**2))+8*x+0.35\n",
    "yaproX1=float(format((math.pow(x,3)-7*math.pow(x,2)+8*x+0.35), '.3g'))\n",
    "Ev=math.fabs(yVer1-yaproX1)\n",
    "Epv=((Ev/yaproX1))*100\n",
    "print(\"Ecuacion la ecuacion y = x3 – 7x2 + 8x + 0.35 su valor aproximado es %s y su Error verdadero Porcentual es %f\"%(yaproX1,Epv))\n",
    "\n",
    "                                                \n",
    "yVer2=((x-7)*x + 8)*x + 0.35\n",
    "yaproX2=float(format((((x-7)*x + 8)*x + 0.35), '.3g'))\n",
    "E2=math.fabs(yVer1-yaproX1)\n",
    "Epv2=((Ev/yaproX1)*100)\n",
    "print(\"Ecuacion la ecuacion y=[(x-7)x + 8]x + 0.35 su valor aproximado es %s y su Error verdadero Porcentual es %f\"%(yaproX2,Epv2)) \n",
    "\n",
    "\n",
    "\n"
   ]
  },
  {
   "cell_type": "code",
   "execution_count": null,
   "metadata": {
    "collapsed": true
   },
   "outputs": [],
   "source": []
  }
 ],
 "metadata": {
  "kernelspec": {
   "display_name": "Python 3",
   "language": "python",
   "name": "python3"
  },
  "language_info": {
   "codemirror_mode": {
    "name": "ipython",
    "version": 3
   },
   "file_extension": ".py",
   "mimetype": "text/x-python",
   "name": "python",
   "nbconvert_exporter": "python",
   "pygments_lexer": "ipython3",
   "version": "3.5.1"
  }
 },
 "nbformat": 4,
 "nbformat_minor": 0
}
