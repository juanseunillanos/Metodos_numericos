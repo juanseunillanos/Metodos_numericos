{
 "cells": [
  {
   "cell_type": "code",
   "execution_count": 43,
   "metadata": {
    "collapsed": false
   },
   "outputs": [
    {
     "name": "stdout",
     "output_type": "stream",
     "text": [
      "arreglo1 19.6\n",
      "arreglo1 32.00469897209986\n",
      "arreglo1 39.85554369599859\n",
      "arreglo1 44.82428683256299\n",
      "arreglo1 47.968968612092\n",
      "arreglo1 49.959215083423864\n",
      "arreglo1 51.21882775470732\n",
      "arreglo1 52.01602755107027\n",
      "arreglo1 52.52056956609587\n",
      "arreglo1 52.83989057707389\n",
      "arreglo1 53.04198654731108\n",
      "arreglo1 53.169891632732856\n",
      "arreglo1 53.250841840980705\n",
      "arreglo1 53.30207464531965\n",
      "arreglo1 53.33449951855032\n",
      "arreglo1 53.35502098751129\n",
      "arreglo1 53.36800887755854\n",
      "arreglo1 53.37622881971767\n",
      "arreglo1 53.381431161965224\n",
      "arreglo1 53.384723686941285\n",
      "arreglo2 0.0\n",
      "arreglo2 8.953182207901257\n",
      "arreglo2 16.404980802870615\n",
      "arreglo2 22.607166909502304\n",
      "arreglo2 27.769291463870154\n",
      "arreglo2 32.06576523242002\n",
      "arreglo2 35.64175156312909\n",
      "arreglo2 38.61807096510561\n",
      "arreglo2 41.09528322582064\n",
      "arreglo2 43.15708498693595\n",
      "arreglo2 44.873137571348394\n",
      "arreglo2 46.30142060418256\n",
      "arreglo2 47.490190948641704\n",
      "arreglo2 48.479613142547706\n",
      "arreglo2 49.30311642251821\n",
      "arreglo2 49.988524185047744\n",
      "arreglo2 50.55899404517091\n",
      "arreglo2 51.033800254117125\n",
      "arreglo2 51.428984911208715\n",
      "arreglo2 51.757899972254805\n"
     ]
    }
   ],
   "source": [
    "import math\n",
    "g=9.8\n",
    "m=68.1\n",
    "c=12.5\n",
    "t=0\n",
    "t1=2\n",
    "v=0\n",
    "ar= []\n",
    "ar2= []\n",
    "\n",
    "for i in range (20):\n",
    "   vi=(v+(g-(c/m*v))*(t1-t))\n",
    "   print (\"arreglo1 %s\" % vi)\n",
    "   ar.append(vi)\n",
    "   v=vi\n",
    "   t=t1\n",
    "   t1=t1+2\n",
    "    \n",
    "def vt(g, m,c,i):\n",
    " vta=(((g*m)/c)*(1-math.exp(-(c/m)*i)))\n",
    " print (\"arreglo2 %s\" % vta) \n",
    " ar2=[vta]   \n",
    "    \n",
    "for i in range(0,20):\n",
    " vt(g,m,c,i)"
   ]
  },
  {
   "cell_type": "code",
   "execution_count": null,
   "metadata": {
    "collapsed": false
   },
   "outputs": [],
   "source": []
  },
  {
   "cell_type": "code",
   "execution_count": null,
   "metadata": {
    "collapsed": true
   },
   "outputs": [],
   "source": []
  }
 ],
 "metadata": {
  "kernelspec": {
   "display_name": "Python 3",
   "language": "python",
   "name": "python3"
  },
  "language_info": {
   "codemirror_mode": {
    "name": "ipython",
    "version": 3
   },
   "file_extension": ".py",
   "mimetype": "text/x-python",
   "name": "python",
   "nbconvert_exporter": "python",
   "pygments_lexer": "ipython3",
   "version": "3.5.1"
  }
 },
 "nbformat": 4,
 "nbformat_minor": 0
}
